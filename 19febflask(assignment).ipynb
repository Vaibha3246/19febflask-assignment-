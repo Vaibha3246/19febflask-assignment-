{
 "cells": [
  {
   "cell_type": "markdown",
   "id": "f2e332ae-3911-44e6-9af1-15f7313ec5e2",
   "metadata": {},
   "source": [
    "\n",
    "# Q1. What is Flask Framework? What are the advantages of Flask Framework?\n",
    "# Flask is a micro web framework for Python, designed to be lightweight and easy to use. It provides the essentials for building web applications without imposing a specific structure on the project. Here are some advantages of Flask:\n",
    "# Simplicity: Flask follows a minimalistic design philosophy, allowing developers to keep their codebase simple and only use the components they need. This simplicity makes it easy for developers to learn and get started quickly.\n",
    "# Flexibility: Flask gives developers the flexibility to choose their libraries and components for various tasks. It doesn't enforce a specific way of doing things, allowing developers to make decisions based on their project's requirements.\n",
    "# Modularity: Flask is designed to be modular, allowing developers to use extensions for specific functionalities. This modularity enables developers to add features as needed, making it suitable for a variety of applications.\n",
    "# Learning Curve: Flask has a relatively simple and straightforward learning curve. This makes it an excellent choice for beginners and those who prefer to gradually learn and understand the components of a web framework.\n",
    "# Extensibility: Flask can be easily extended with various third-party extensions. These extensions cover a wide range of functionalities, including authentication, database integration, and more. This extensibility allows developers to add features to their applications without starting from scratch.\n",
    "# Community and Documentation: Flask has an active and supportive community. It also has comprehensive documentation, making it easier for developers to find help, resources, and examples when working on their projects.\n",
    "# Scalability: While Flask is often considered more lightweight compared to full-stack frameworks like Django, it is still scalable. Developers have the freedom to structure their application in a way that suits their scalability needs.\n",
    "# Werkzeug and Jinja2: Flask is built on top of the Werkzeug WSGI toolkit and uses the Jinja2 template engine. Werkzeug provides a set of utilities for building web applications, and Jinja2 is a powerful and expressive template engine. These components contribute to the effectiveness and simplicity of Flask.\n",
    "# In summary, Flask's advantages include simplicity, flexibility, modularity, a manageable learning curve, extensibility, strong community support, and scalability. These features make Flask a popular choice for a wide range of web development projects."
   ]
  },
  {
   "cell_type": "markdown",
   "id": "bdcd5d36-3fda-4720-8014-e3849e35d631",
   "metadata": {},
   "source": [
    "# Q2. Create a simple Flask application to display ‘Hello World!!’. Attach the screenshot of the output in\n",
    "# Jupyter Notebook."
   ]
  },
  {
   "cell_type": "code",
   "execution_count": 6,
   "id": "322fe52e-e6d8-49bd-8fa2-bc414ef03440",
   "metadata": {},
   "outputs": [
    {
     "name": "stdout",
     "output_type": "stream",
     "text": [
      "Requirement already satisfied: Flask in /opt/conda/lib/python3.10/site-packages (3.0.0)\n",
      "Requirement already satisfied: Jinja2>=3.1.2 in /opt/conda/lib/python3.10/site-packages (from Flask) (3.1.2)\n",
      "Requirement already satisfied: blinker>=1.6.2 in /opt/conda/lib/python3.10/site-packages (from Flask) (1.6.3)\n",
      "Requirement already satisfied: itsdangerous>=2.1.2 in /opt/conda/lib/python3.10/site-packages (from Flask) (2.1.2)\n",
      "Requirement already satisfied: click>=8.1.3 in /opt/conda/lib/python3.10/site-packages (from Flask) (8.1.3)\n",
      "Requirement already satisfied: Werkzeug>=3.0.0 in /opt/conda/lib/python3.10/site-packages (from Flask) (3.0.0)\n",
      "Requirement already satisfied: MarkupSafe>=2.0 in /opt/conda/lib/python3.10/site-packages (from Jinja2>=3.1.2->Flask) (2.1.1)\n"
     ]
    }
   ],
   "source": [
    "!pip install Flask"
   ]
  },
  {
   "cell_type": "code",
   "execution_count": null,
   "id": "7e3af237-2fd4-48ea-a8f6-ff9999e98088",
   "metadata": {},
   "outputs": [
    {
     "name": "stdout",
     "output_type": "stream",
     "text": [
      " * Serving Flask app '__main__'\n",
      " * Debug mode: off\n"
     ]
    },
    {
     "name": "stderr",
     "output_type": "stream",
     "text": [
      "WARNING: This is a development server. Do not use it in a production deployment. Use a production WSGI server instead.\n",
      " * Running on all addresses (0.0.0.0)\n",
      " * Running on http://127.0.0.1:5000\n",
      " * Running on http://172.18.0.3:5000\n",
      "Press CTRL+C to quit\n",
      "172.18.0.2 - - [20/Oct/2023 19:57:14] \"GET /welcome HTTP/1.1\" 200 -\n"
     ]
    }
   ],
   "source": [
    "from flask import Flask\n",
    "app= Flask(__name__)\n",
    "\n",
    "@app.route(\"/welcome\")\n",
    "\n",
    "def welcome():\n",
    "    return \" hello, world!!\"\n",
    "    \n",
    "if __name__==\"__main__\":\n",
    "    app.run(host=\"0.0.0.0\")\n"
   ]
  },
  {
   "cell_type": "code",
   "execution_count": null,
   "id": "01c39ba7-6472-411c-9747-e5a5ab0a5c5e",
   "metadata": {},
   "outputs": [],
   "source": [
    "output : https://yellow-architect-pquvf.pwskills.app:5000/welcome"
   ]
  },
  {
   "cell_type": "markdown",
   "id": "8e91554e-84d1-42cb-bf26-4b78dd0fa262",
   "metadata": {},
   "source": [
    "# Q3. What is App routing in Flask? Why do we use app routes?\n",
    "# In Flask, routing refers to the mechanism of directing incoming HTTP requests to the appropriate view function\n",
    "# or endpoint in the application. An app route is a decorator provided by Flask that is used to bind a function\n",
    "# to a URL so that when a request is made to that URL, the associated function is executed. This process is\n",
    "# central to how Flask handles different parts of a web application.\n",
    "# Why Use App Routes:\n",
    "# Organizing Code: App routes help organize the code by associating specific functionality with specific URLs. This makes the codebase more maintainable and modular.\n",
    "# Handling User Requests: Routes determine how the application responds to user requests. By defining routes, you specify what should happen when a user accesses different parts of the application.\n",
    "# RESTful API Design: In the case of building RESTful APIs, routes play a crucial role in defining the structure of the API. Different routes correspond to different API endpoints, each serving a specific purpose.\n",
    "# Dynamic Content: Dynamic routes allow the application to handle variable data in URLs, enabling the creation of dynamic and data-driven web pages.\n",
    "# App routes are a fundamental concept in Flask, and they are essential for building web applications where different URLs correspond to different functionalities or views within the application."
   ]
  },
  {
   "cell_type": "code",
   "execution_count": null,
   "id": "a8be56e0-0142-4e31-bc5a-f0ffdcbf8d60",
   "metadata": {},
   "outputs": [],
   "source": []
  },
  {
   "cell_type": "code",
   "execution_count": 1,
   "id": "d2b49f14-1ffd-48e2-9aa7-83ee0541eb0d",
   "metadata": {},
   "outputs": [
    {
     "name": "stdout",
     "output_type": "stream",
     "text": [
      "Requirement already satisfied: flask in /opt/conda/lib/python3.10/site-packages (3.0.0)\n",
      "Requirement already satisfied: Werkzeug>=3.0.0 in /opt/conda/lib/python3.10/site-packages (from flask) (3.0.0)\n",
      "Requirement already satisfied: blinker>=1.6.2 in /opt/conda/lib/python3.10/site-packages (from flask) (1.6.3)\n",
      "Requirement already satisfied: click>=8.1.3 in /opt/conda/lib/python3.10/site-packages (from flask) (8.1.3)\n",
      "Requirement already satisfied: Jinja2>=3.1.2 in /opt/conda/lib/python3.10/site-packages (from flask) (3.1.2)\n",
      "Requirement already satisfied: itsdangerous>=2.1.2 in /opt/conda/lib/python3.10/site-packages (from flask) (2.1.2)\n",
      "Requirement already satisfied: MarkupSafe>=2.0 in /opt/conda/lib/python3.10/site-packages (from Jinja2>=3.1.2->flask) (2.1.1)\n"
     ]
    }
   ],
   "source": [
    "!pip install flask"
   ]
  },
  {
   "cell_type": "code",
   "execution_count": 1,
   "id": "51799608-648e-4dca-878f-90f1d70ba9da",
   "metadata": {},
   "outputs": [
    {
     "name": "stdout",
     "output_type": "stream",
     "text": [
      " * Serving Flask app '__main__'\n",
      " * Debug mode: off\n"
     ]
    },
    {
     "name": "stderr",
     "output_type": "stream",
     "text": [
      "WARNING: This is a development server. Do not use it in a production deployment. Use a production WSGI server instead.\n",
      " * Running on all addresses (0.0.0.0)\n",
      " * Running on http://127.0.0.1:5000\n",
      " * Running on http://172.18.0.3:5000\n",
      "Press CTRL+C to quit\n",
      "172.18.0.2 - - [20/Oct/2023 19:33:27] \"GET / HTTP/1.1\" 200 -\n"
     ]
    }
   ],
   "source": [
    "from flask import Flask\n",
    "\n",
    "app=Flask( __name__)\n",
    "\n",
    "@app.route(\"/welcome\")\n",
    "def welcome():\n",
    "    return \" welcome to abc corporation\" \n",
    "\n",
    "@app.route(\"/\")\n",
    "def company_details():\n",
    "    return \"\"\" \n",
    "     <h1>Company Details</h1>\n",
    "    <p><strong>Company Name:</strong> ABC Corporation</p>\n",
    "    <p><strong>Location:</strong> India</p>\n",
    "    <p><strong>Contact Detail:</strong> 999-999-9999</p>\n",
    "    \n",
    "    \"\"\"\n",
    "\n",
    "\n",
    "if __name__==\"__main__\":\n",
    "    app.run(host=\"0.0.0.0\")\n",
    "\n",
    "              \n"
   ]
  },
  {
   "cell_type": "code",
   "execution_count": null,
   "id": "8f3f6730-c073-429d-ba76-a5e388385f56",
   "metadata": {},
   "outputs": [],
   "source": [
    "output :https://yellow-architect-pquvf.pwskills.app:5000/welcome\n",
    "\n",
    "output: https://yellow-architect-pquvf.pwskills.app:5000/"
   ]
  },
  {
   "cell_type": "code",
   "execution_count": 1,
   "id": "a48ca859-5af3-4642-ae83-9823669c71bd",
   "metadata": {},
   "outputs": [],
   "source": []
  },
  {
   "cell_type": "markdown",
   "id": "c40a8bd4-23ef-47bc-a97c-aea483602ba0",
   "metadata": {},
   "source": [
    "# Q5. What function is used in Flask for URL Building? Write a Python code to demonstrate the working of the\n",
    "# url_for() function."
   ]
  },
  {
   "cell_type": "markdown",
   "id": "2309681f-5bac-49e5-9c10-34738f8e94dd",
   "metadata": {},
   "source": [
    "# In Flask, the url_for function is used for URL building. This function generates a URL for the specified\n",
    "# endpoint. It takes the endpoint name as an argument and returns the URL as a string."
   ]
  },
  {
   "cell_type": "code",
   "execution_count": null,
   "id": "aaefe399-006b-4161-8c9c-ef86651db9d0",
   "metadata": {},
   "outputs": [],
   "source": [
    "# here an example"
   ]
  },
  {
   "cell_type": "code",
   "execution_count": null,
   "id": "9162e85a-1108-45b3-81cc-0e6db4f4a489",
   "metadata": {},
   "outputs": [],
   "source": [
    "from flask import Flask, url_for\n",
    "\n",
    "app = Flask(__name__)\n",
    "\n",
    "@app.route('/welcome')\n",
    "def welcome():\n",
    "    return 'Welcome to ABC Corporation'\n",
    "\n",
    "@app.route('/')\n",
    "def details():\n",
    "    company_name = 'ABC Corporation'\n",
    "    location = 'India'\n",
    "    contact_detail = '999-999-9999'\n",
    "    \n",
    "    # Using url_for to generate a URL for the 'welcome' endpoint\n",
    "    welcome_url = url_for('welcome')\n",
    "    \n",
    "    return f'''\n",
    "    Company Name: {company_name}\n",
    "    Location: {location}\n",
    "    Contact Detail: {contact_detail}\n",
    "    \n",
    "    Visit the welcome page: <a href=\"{welcome_url}\">{welcome_url}</a>\n",
    "    '''\n",
    "\n",
    "if __name__ == '__main__':\n",
    "    app.run(debug=True)\n"
   ]
  }
 ],
 "metadata": {
  "kernelspec": {
   "display_name": "Python 3 (ipykernel)",
   "language": "python",
   "name": "python3"
  },
  "language_info": {
   "codemirror_mode": {
    "name": "ipython",
    "version": 3
   },
   "file_extension": ".py",
   "mimetype": "text/x-python",
   "name": "python",
   "nbconvert_exporter": "python",
   "pygments_lexer": "ipython3",
   "version": "3.10.8"
  }
 },
 "nbformat": 4,
 "nbformat_minor": 5
}
